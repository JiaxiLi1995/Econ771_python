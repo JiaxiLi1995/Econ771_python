{
 "cells": [
  {
   "cell_type": "markdown",
   "id": "5f769895",
   "metadata": {},
   "source": [
    "# Econ 771 - Problem Set 13\n",
    "Coding Part"
   ]
  },
  {
   "cell_type": "code",
   "execution_count": null,
   "id": "bd9fa5c8",
   "metadata": {},
   "outputs": [],
   "source": [
    "# Install xlrd if not have it\n",
    "# !pip install xlrd\n",
    "# Import necessary packages\n",
    "import pandas as pd"
   ]
  },
  {
   "cell_type": "markdown",
   "id": "47286a2c",
   "metadata": {},
   "source": [
    "## Exercise III\n",
    "\n",
    "<b>\n",
    "\n",
    "Empirical exercise on p.358-363 in Hayashi.\n",
    "\n",
    "• In (b) you should use the FE estimator introduced in class with clustered standard\n",
    "errors.\n",
    "\n",
    "• (c) is optional.\n",
    "\n",
    "<br>\n",
    "\n",
    "<blockquote>\n",
    "\n",
    "In this exercise, you will estimate the speed of convergence using several different estimation techniques. We use the international panel constructed by Summers and Heston (1991), which has become the standard data set for studying the growth of nations. The Summers-Heston panel (also called the Penn World Table) includes major macro variables measured in a consistent basis for virtually all the countries of the world.\n",
    "\n",
    "The file *sum-hes.xls* is an extract for 1960-1985 from version 5.6 of the Penn World Table downloaded from the NBER's home page (www.nber.org). The file is organized as follows. For each country, the first two variables are dummies, one for a communist regime (referred to as *COM* below) and the other for the Organization of Petroleum Exporting Countries (referred to as *OPEC* below). The later variables are the population (*POP{year}*, in thousands), real GDP per capita (*Y{year}*, in 1985 U.S. dollars), and the saving rate (*SRATE{year}*, in percent) for each year. The third record has the same for 1961, and so forth. The twenty-seventh record of the country is for 1985.\n",
    "\n",
    "GDP per capita is the country's real GDP converted into U.S. dollars using the purchasing power parity of the country's currency against the dollar for 1985 (the variable \"RGDPCH\" in the Penn World Table). The saving rate is measured as the ratio of real investment to real GDP (\"I\" in the Penn World Table). See Sections II and III (particularly III.D) of Summers and Heston (1991) for how the variables are constructed. The first issue we examine empirically is conditional convergence. (At this juncture it would be useful to skim Mankiw, Romer, and Weil (1992).) Let $s_i$ be the saving rate of country $i$ and $n_i$ be the country's population growth rate (which we take to be the growth rate of labor). In the Solow-Swan growth model with a Cobb-Douglas production function, the steady-state level of output per effective labor, denoted $q^*$ in the text, is a linear function of $\\log(s_i) - log(n_i + g + \\delta)$, where $g$ is the rate of labor-augmenting technical progress and $\\delta$ is the depreciation rate of the capital stock. Then, assuming $A(0)$, the initial level of technology, to be the same across countries, equation (5.4.10) can be written\n",
    "$$y_{im} = \\phi_m + \\rho y_{i,m-1} + \\gamma_1 \\log(s_i) + \\gamma_2 \\log(n_i + g + \\delta) + \\eta_{im}. \\quad (1)$$\n",
    "\n",
    "The growth model implies that $\\gamma_1 = - \\gamma_2$, but we will not impose this restriction. This is the specification estimated in Table IV of Mankiw et al. (1992). As in Mankiw et a]., assume $\\rho + \\delta$ to be 5 percent for all countries, and take $s_i$ to be the saving rate averaged over the 1960-1985 period. We measure $n_i$ as the average annual population growth rate over the same period (Mankiw et al. uses the average growth rate of the working-age population). Because our sample of 125 countries includes (former) communist countries and OPEC, we add COM (= 1 if communist, 0 otherwise) and OPEC (= 1 if OPEC, 0 otherwise) to the equation:\n",
    "$$y_{im} = \\phi_m + \\rho y_{i,m-1} + \\gamma_1 \\log(s_i) + \\gamma_2 \\log(n_i + g + \\delta) + \\gamma_3 COM_i + \\gamma_4 OPEC_i + \\eta_{im}. \\quad (2)$$\n",
    "\n",
    "</blockquote>\n",
    "\n",
    "</b>"
   ]
  },
  {
   "cell_type": "code",
   "execution_count": null,
   "id": "c4a6a368",
   "metadata": {},
   "outputs": [],
   "source": [
    "# One can find the src or excel data from his website: http://fhayashi.fc2web.com/datasets.htm\n",
    "ps13_data = pd.read_excel(\"http://fhayashi.fc2web.com/hayashi%20econometrics/ch5/sum_hes.xls\")\n",
    "\n",
    "# Load first few lines to have a feeling of the data\n",
    "print(ps13_data.head())"
   ]
  },
  {
   "cell_type": "markdown",
   "id": "aa1a870d",
   "metadata": {},
   "source": [
    "<b>\n",
    "\n",
    "(a) By subtracting from both sides, we can rewrite (2) as\n",
    "$$y_{im} - y_{i,m-1} = \\phi_m + (\\rho-1) y_{i,m-1} + \\gamma_1 \\log(s_i) + \\gamma_2 \\log(n_i + g + \\delta) + \\gamma_3 COM_i + \\gamma_4 OPEC_i + \\eta_{im}. \\quad (2')$$\n",
    "\n",
    "For this specification, set $M = 1$ (just one equation to estimate) and take $t_0 = 1960$ and $t_1 = 1985$, so the dependent variable, $y_{i1} - y_{i0}$, is the cumulative growth between 1960 and 1985. Plot $y_{i1} - y_{i0}$ against $y_{i0}$ for the 125 countries included in the sample. Is there any relation between the initial GDP ($y_{i0}$) and the subsequent growth ($y_{i1} - y_{i0}$)? Assuming outright that the error term is orthogonal to the regressors, estimate equation (2') by OLS. Calculate the value of $\\lambda$ (speed of convergence) implied by the OLS estimate of $\\rho$. (It should be less than 1 percent per year.) Calculate the asymptotic standard error (i.e., $1/n$ times the square root of the asymptotic variance) of your estimate of $\\lambda$. Hint: By (5.4.3), $\\hat{\\lambda} = - log(\\hat{\\rho})/25$. By the delta method (Lemma 2.5 of Section 2.1),\n",
    "$$Avar(\\hat{\\lambda}) = \\frac{Avar(\\hat{\\rho})}{(25 \\rho)^2}$$\n",
    "\n",
    "(since the derivative of $\\log(\\rho)$ is $1/\\rho$). So a consistent estimate of $Avar(\\hat{\\lambda})$ is $\\hat{Avar(\\hat{\\rho})}/(25 \\hat{\\rho})^2$. The standard error of $\\hat{\\lambda}$ is $1/n$ times the square root of this. So: the standard error of $\\hat{\\lambda}$ = (standard error of $\\hat{\\rho}$)/($25 \\hat{\\rho}$). Can you confirm the finding that \"if countries did not vary in their investment and population growth rates, there would be a strong tendency for poor countries to grow faster than rich ones\" (Mankiw et al., 1992, p. 428).\n",
    "\n",
    "</b>"
   ]
  },
  {
   "cell_type": "code",
   "execution_count": null,
   "id": "c313ceff-2568-4de2-8a7f-85297011a02f",
   "metadata": {},
   "outputs": [],
   "source": []
  },
  {
   "cell_type": "markdown",
   "id": "8def5f01",
   "metadata": {},
   "source": [
    "**(b) (Fixed-effects estimation) By setting $M = 25$, $t_0 = 1960, t_1 = 1961, \\dots , t_{25} = 1985$, we can form a system of 25 equations, with (5.4.10) as the $m$-th equation. Estimate the system by the fixed-effect technique, assuming that the error is spherical in the sense of (5.2.12). What is the implied value of $\\lambda$? (It should be about 6.4 percent per year.) (Optional: Calculate the standard errors without the spherical error assumption. As emphasized in the text, the fixed-effects estimator is *not* consistent. We nevertheless apply blindly the fixed-effect technique just to gain programming experience.)**"
   ]
  },
  {
   "cell_type": "code",
   "execution_count": null,
   "id": "3314fd22",
   "metadata": {},
   "outputs": [],
   "source": []
  },
  {
   "cell_type": "markdown",
   "id": "fb8490b5",
   "metadata": {},
   "source": [
    "<b>\n",
    "\n",
    "(c) (optional) As in the previous question, take $M = 25$, $t_0 = 1960, t_1 = 1961, \\dots , t_{25} = 1985$. Then (5.4.11) is a system of 24 equations if written as the model of Section 4.6:\n",
    "$$y_{im} = z_{im}' \\delta + \\epsilon_{im} \\quad (i = 1, 2, \\dots, 125; m = 1,2, ..., 24), \\quad (3)$$\n",
    "\n",
    "where the $y_{im}$, in (3) equals $y_{i, m+1} - y_{im}$, in (5.4.11),\n",
    "$$z_{im} = (0, \\dots, 0, 1, 0, \\dots, 0, y_{im} - y_{i, m-1})',$$\n",
    "\n",
    "a 25-dimensional vector whose $m$-th element is 1,\n",
    "$$\\delta = (\\mu_1, \\dots, \\mu_{24}, \\rho)'.$$\n",
    "\n",
    "If $s_{im}$ is country $i$'s saving rate (investment/GDP ratio) in year $m$, use a constant and $s_{i,m-1}$ as the instrument in the $m$-th equation (so, for example, in the first equation where the nonconstant regressor is $y_{i,1961} - y_{i,1960}$, the vector of instruments is $(1, s_{i, 1960})'$). Apply the multiple-equation GMM technique to (3) assuming conditional homoskedasticity. (It will be very clumsy to use TSP or RATS; use GAUSS. The estimator is (4.6.6) with $\\hat{W}$ set to the inverse of (4.5.3).) The implied value of $\\lambda$ should be about 36 percent per year!\n",
    "\n",
    "</b>"
   ]
  },
  {
   "cell_type": "code",
   "execution_count": null,
   "id": "33824ba8",
   "metadata": {},
   "outputs": [],
   "source": []
  }
 ],
 "metadata": {
  "kernelspec": {
   "display_name": "Python 3 (ipykernel)",
   "language": "python",
   "name": "python3"
  },
  "language_info": {
   "codemirror_mode": {
    "name": "ipython",
    "version": 3
   },
   "file_extension": ".py",
   "mimetype": "text/x-python",
   "name": "python",
   "nbconvert_exporter": "python",
   "pygments_lexer": "ipython3",
   "version": "3.12.7"
  }
 },
 "nbformat": 4,
 "nbformat_minor": 5
}
