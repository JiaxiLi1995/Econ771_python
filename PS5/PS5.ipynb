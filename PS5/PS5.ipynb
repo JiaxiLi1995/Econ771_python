{
 "cells": [
  {
   "cell_type": "markdown",
   "id": "5f769895",
   "metadata": {},
   "source": [
    "# Econ 711 - Problem Set 5\n",
    "Coding Part"
   ]
  },
  {
   "cell_type": "code",
   "execution_count": null,
   "id": "faaa9008-e406-4504-90b3-df1e2afc4af7",
   "metadata": {},
   "outputs": [],
   "source": [
    "# Import necessary packages"
   ]
  },
  {
   "cell_type": "code",
   "execution_count": null,
   "id": "bd9fa5c8",
   "metadata": {},
   "outputs": [],
   "source": [
    "# This is for the timing of the code run time, please do not modify\n",
    "import time\n",
    "start_time = time.time()"
   ]
  },
  {
   "cell_type": "markdown",
   "id": "b9ebd75d-21df-408f-9605-ea9ec0363c72",
   "metadata": {},
   "source": [
    "## Exercise III\n",
    "\n",
    "<blockquote>\n",
    "\n",
    "<b>\n",
    "\n",
    "N.B. Reading [Stambaugh(1999)] may be helpful. ([Stambaugh(1999)] Robert F Stambaugh. Predictive regressions. Journal of Financial Economics,\n",
    "54(3):375–421, 1999.)\n",
    "\n",
    "Consider the predictive regression model\n",
    "$$y_t = \\beta x_{t-1} + u_t$$\n",
    "$$x_t = \\rho x_{t-1} + v_t$$\n",
    "  \n",
    "where\n",
    "$$\\begin{pmatrix}u_t \\\\ v_t \\end{pmatrix} = i.i.d. \\ N\\begin{pmatrix}\\begin{pmatrix} 0 \\\\ 0 \\end{pmatrix}, \\begin{pmatrix} \\sigma_u^2 & \\sigma_{uv} \\\\ \\sigma_{uv} & \\sigma_v^2 \\end{pmatrix} \\end{pmatrix}$$\n",
    "  \n",
    "Set $\\beta = 0$, $\\sigma_u^2 = 1$, $\\sigma_v^2 = 0.01$. We will consider four designs: $\\rho = 0.1$ or $\\rho = 0.9$, $\\sigma_{uv} = -0.001$ or $\\sigma_{uv} = -0.009$.\n",
    "\n",
    "</b>\n",
    "\n",
    "</blockquote>"
   ]
  },
  {
   "cell_type": "markdown",
   "id": "aa1a870d",
   "metadata": {},
   "source": [
    "**1. Simulate samples (You may initiate the process by setting $x_0 = 0$, simulating $T + 200$ observations and throwing out the first 200 observations, to make sure that the process reverts to its stationary regime.) of size $T \\in \\{100, 500, 1000\\}$ for each of the four designs $M = 1000$ times (or more). For each replication compute the OLS estimator in the regression of $y_t$ on a constant and $x_{t-1}$. Report the summary statistics for your Monte Carlo replications: histograms, mean, and standard deviation. For example, for the sample of each size $T \\in \\{100, 500, 1000\\}$ you should have $M$ OLS estimates $\\hat{\\beta}$. Discuss your findings.**"
   ]
  },
  {
   "cell_type": "code",
   "execution_count": null,
   "id": "c313ceff-2568-4de2-8a7f-85297011a02f",
   "metadata": {},
   "outputs": [],
   "source": []
  },
  {
   "cell_type": "markdown",
   "id": "8def5f01",
   "metadata": {},
   "source": [
    "**2. Consider now the two-step ahead forecast regression, i.e. the regression of $y_{t+1} + y_{t+2}$ on a constant and $x_t$ with $t = 1, \\dots , T - 1$.**"
   ]
  },
  {
   "cell_type": "markdown",
   "id": "fb8490b5",
   "metadata": {},
   "source": [
    "**(a) What is the population value of the slope parameter?**"
   ]
  },
  {
   "cell_type": "code",
   "execution_count": null,
   "id": "33824ba8",
   "metadata": {},
   "outputs": [],
   "source": []
  },
  {
   "cell_type": "markdown",
   "id": "dc15aa2a-c22f-4542-b315-68640871d6b4",
   "metadata": {},
   "source": [
    "**(b) Do again simulations for a single design with $\\rho = 0.9$ and $\\sigma_{uv} = -0.009$ and samples of size $T \\in \\{100, 500, 1000\\}$. Report the summary statistics of your Monte Carlo replications. Discuss your findings.**"
   ]
  },
  {
   "cell_type": "code",
   "execution_count": null,
   "id": "5ac3efc3-8ba2-4ca0-9d02-493aad35c05c",
   "metadata": {},
   "outputs": [],
   "source": []
  },
  {
   "cell_type": "markdown",
   "id": "deab5b13-2579-49bd-9d3d-115fb24ee34a",
   "metadata": {},
   "source": [
    "**(c) Compute standard errors of the OLS estimator under homoskedasticity and using HAC estimator. For both estimates, test individual and joint significance of the slope and the intercept, compute p-values, and build confidence intervals.**"
   ]
  },
  {
   "cell_type": "code",
   "execution_count": null,
   "id": "f10be5f8-340b-4275-8de1-76f4250b9576",
   "metadata": {},
   "outputs": [],
   "source": []
  },
  {
   "cell_type": "markdown",
   "id": "d129debf-1c82-4689-bb4c-6841854ffed6",
   "metadata": {},
   "source": [
    "**(d) Compare previous results with the true analytical formula (you have to compute it). Discuss your findings.**"
   ]
  },
  {
   "cell_type": "code",
   "execution_count": null,
   "id": "f45f4cee-a04e-42e8-bf7c-b2d876fa0c3b",
   "metadata": {},
   "outputs": [],
   "source": []
  },
  {
   "cell_type": "code",
   "execution_count": null,
   "id": "def789fe-ff47-4c07-91c9-fc966dc0ce47",
   "metadata": {},
   "outputs": [],
   "source": [
    "# This is for the timing of the code run time, please do not modify\n",
    "end_time = time.time()\n",
    "\n",
    "print(f\"Total runtime: {end_time - start_time} seconds\")"
   ]
  }
 ],
 "metadata": {
  "kernelspec": {
   "display_name": "Python 3 (ipykernel)",
   "language": "python",
   "name": "python3"
  },
  "language_info": {
   "codemirror_mode": {
    "name": "ipython",
    "version": 3
   },
   "file_extension": ".py",
   "mimetype": "text/x-python",
   "name": "python",
   "nbconvert_exporter": "python",
   "pygments_lexer": "ipython3",
   "version": "3.12.7"
  }
 },
 "nbformat": 4,
 "nbformat_minor": 5
}
