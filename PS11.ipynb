{
 "cells": [
  {
   "cell_type": "markdown",
   "id": "5f769895",
   "metadata": {},
   "source": [
    "# Econ 711 - Problem Set 11\n",
    "Coding Part"
   ]
  },
  {
   "cell_type": "code",
   "execution_count": null,
   "id": "bd9fa5c8",
   "metadata": {},
   "outputs": [],
   "source": [
    "# Import necessary packages\n",
    "import pandas as pd"
   ]
  },
  {
   "cell_type": "markdown",
   "id": "47286a2c",
   "metadata": {},
   "source": [
    "## Exercise II\n",
    "\n",
    "<b>\n",
    "\n",
    "Hayashi, Empirical exercise on p.252-254 (f) and (g).\n",
    "\n",
    "</b>"
   ]
  },
  {
   "cell_type": "code",
   "execution_count": null,
   "id": "c4a6a368",
   "metadata": {},
   "outputs": [],
   "source": [
    "# I found the dta version data here: http://fmwww.bc.edu/ec-p/data/Hayashi/\n",
    "# One can also find the src or excel data from his website: http://fhayashi.fc2web.com/datasets.htm\n",
    "ps11_data = pd.read_stata(\"http://fmwww.bc.edu/ec-p/data/Hayashi/griliches76.dta\")\n",
    "\n",
    "# Load first few lines to have a feeling of the data\n",
    "print(ps11_data.head())"
   ]
  },
  {
   "cell_type": "markdown",
   "id": "aa1a870d",
   "metadata": {},
   "source": [
    "**(f) Estimate the wage equation by GMM, treating schooling as predetermined as in the 2SLS estimation in part (b). Are 2SLS standard errors smaller than GMM standard errors? Test whether schooling is predetermined by the $C$ statistic. To calculate $C$, you need to do two GMMs with and without schooling as an instrument. Use the same $\\hat{S}$ throughout. To calculate $\\hat{S}$, use the 2SLS residual from part (b). The $C$ statistic should be 58.168.**"
   ]
  },
  {
   "cell_type": "code",
   "execution_count": null,
   "id": "c313ceff-2568-4de2-8a7f-85297011a02f",
   "metadata": {},
   "outputs": [],
   "source": []
  },
  {
   "cell_type": "markdown",
   "id": "8def5f01",
   "metadata": {},
   "source": [
    "**(g) Go back to the wage equation you estimated in (e) by 2SLS endogenous schooling. The large Sargan's statistic (and the large J statistic in part (f)) is a concern. So consider dropping both MED and KWW from the list of instruments. Is the order condition for identification still satisfied? What happens to the 2SLS estimates? (The schooling coefficient will be -529.3%!) What do you think is the problem? Hint: There are two endogenous regressors, S and IQ. MRT and AGE are the only excluded predetermined variables. If MRT and AGE do not have explanatory power in the first-stage regression of S and IQ on the instruments, then the fitted values of S and IQ will be very close to linear combinations of the included predetermined variables. This will lead to a near multicollinearity problem in the second-stage regression. Make sure you examine the first-stage regressions to check the explanatory power of MRT and AGE.**"
   ]
  },
  {
   "cell_type": "code",
   "execution_count": null,
   "id": "3314fd22",
   "metadata": {},
   "outputs": [],
   "source": []
  }
 ],
 "metadata": {
  "kernelspec": {
   "display_name": "Python 3 (ipykernel)",
   "language": "python",
   "name": "python3"
  },
  "language_info": {
   "codemirror_mode": {
    "name": "ipython",
    "version": 3
   },
   "file_extension": ".py",
   "mimetype": "text/x-python",
   "name": "python",
   "nbconvert_exporter": "python",
   "pygments_lexer": "ipython3",
   "version": "3.12.7"
  }
 },
 "nbformat": 4,
 "nbformat_minor": 5
}
