{
 "cells": [
  {
   "cell_type": "markdown",
   "id": "5f769895",
   "metadata": {},
   "source": [
    "# Econ 711 - Problem Set 7\n",
    "Coding Part"
   ]
  },
  {
   "cell_type": "code",
   "execution_count": null,
   "id": "faaa9008-e406-4504-90b3-df1e2afc4af7",
   "metadata": {},
   "outputs": [],
   "source": [
    "# Import necessary packages\n",
    "import pandas as pd"
   ]
  },
  {
   "cell_type": "markdown",
   "id": "47286a2c",
   "metadata": {},
   "source": [
    "## Exercise III\n",
    "\n",
    "<blockquote>\n",
    "\n",
    "<b>\n",
    "\n",
    "This exercise is uses the Lending Club loan dataset. The outcome variable is a loan default status, *loan_status*, (=1 if paid off and =0 if not). This is going to be a DIY style exercise.\n",
    "\n",
    "</b>\n",
    "\n",
    "</blockquote>"
   ]
  },
  {
   "cell_type": "markdown",
   "id": "550c99fc-e3c8-4f1e-b097-55efae3833aa",
   "metadata": {},
   "source": [
    "**1. Fit a logistic regression model with 5-10 selected variables (converting the categorical variables to dummies). Give a short justification for why you excluded other variables. Report results in a table with standard errors and 95% confidence intervals (You are expected to code the log-likelihood function and optimize it numerically. The following guide may be helpful: https://indrag49.github.io/Numerical-Optimization/quasi-newton-methods.html).**"
   ]
  },
  {
   "cell_type": "code",
   "execution_count": null,
   "id": "c313ceff-2568-4de2-8a7f-85297011a02f",
   "metadata": {},
   "outputs": [],
   "source": [
    "# One can find the csv data from this website: https://www.openintro.org/data/index.php?data=loans_full_schema\n",
    "# You can go to https://www.openintro.org/data/index.php?data=loans_full_schema to find definition of all variables\n",
    "ps7_data = pd.read_csv(\"https://www.openintro.org/data/csv/loans_full_schema.csv\")\n",
    "\n",
    "# Load first few lines to have a feeling of the data\n",
    "print(ps7_data.head())"
   ]
  },
  {
   "cell_type": "markdown",
   "id": "8def5f01",
   "metadata": {},
   "source": [
    "<b>\n",
    "    \n",
    "2. To evaluate the predictive performance of the model, split the data randomly into two subsets of equal size (training and test set). Fit the logistic regression on the training set and compute predicted default status for the tests set. The predictions can be obtained as\n",
    "$$\\hat{y}_i = 1 \\quad if \\ and \\ only \\ if \\quad x^\\top_i \\hat{\\beta} \\geq 0.$$\n",
    "\n",
    "What is the fraction of the incorrectly predicted $\\hat{y}_i$ in the test set?\n",
    "\n",
    "</b>"
   ]
  },
  {
   "cell_type": "code",
   "execution_count": null,
   "id": "3314fd22",
   "metadata": {},
   "outputs": [],
   "source": []
  }
 ],
 "metadata": {
  "kernelspec": {
   "display_name": "Python 3 (ipykernel)",
   "language": "python",
   "name": "python3"
  },
  "language_info": {
   "codemirror_mode": {
    "name": "ipython",
    "version": 3
   },
   "file_extension": ".py",
   "mimetype": "text/x-python",
   "name": "python",
   "nbconvert_exporter": "python",
   "pygments_lexer": "ipython3",
   "version": "3.12.7"
  }
 },
 "nbformat": 4,
 "nbformat_minor": 5
}
