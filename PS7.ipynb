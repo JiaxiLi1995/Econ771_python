{
 "cells": [
  {
   "cell_type": "markdown",
   "id": "5f769895",
   "metadata": {},
   "source": [
    "# Econ 771 - Problem Set 7\n",
    "Coding Part"
   ]
  },
  {
   "cell_type": "code",
   "execution_count": 1,
   "id": "faaa9008-e406-4504-90b3-df1e2afc4af7",
   "metadata": {
    "execution": {
     "iopub.execute_input": "2025-01-30T23:02:14.188393Z",
     "iopub.status.busy": "2025-01-30T23:02:14.188393Z",
     "iopub.status.idle": "2025-01-30T23:02:19.259648Z",
     "shell.execute_reply": "2025-01-30T23:02:19.258533Z",
     "shell.execute_reply.started": "2025-01-30T23:02:14.188393Z"
    }
   },
   "outputs": [
    {
     "name": "stdout",
     "output_type": "stream",
     "text": [
      "Collecting openpyxl\n",
      "  Downloading openpyxl-3.1.5-py2.py3-none-any.whl.metadata (2.5 kB)\n",
      "Collecting et-xmlfile (from openpyxl)\n",
      "  Downloading et_xmlfile-2.0.0-py3-none-any.whl.metadata (2.7 kB)\n",
      "Downloading openpyxl-3.1.5-py2.py3-none-any.whl (250 kB)\n",
      "Downloading et_xmlfile-2.0.0-py3-none-any.whl (18 kB)\n",
      "Installing collected packages: et-xmlfile, openpyxl\n",
      "Successfully installed et-xmlfile-2.0.0 openpyxl-3.1.5\n"
     ]
    }
   ],
   "source": [
    "# Install openpyxl if not have it\n",
    "# !pip install openpyxl\n",
    "\n",
    "# Import necessary packages\n",
    "import pandas as pd"
   ]
  },
  {
   "cell_type": "markdown",
   "id": "47286a2c",
   "metadata": {},
   "source": [
    "## Exercise III\n",
    "\n",
    "<blockquote>\n",
    "\n",
    "<b>\n",
    "\n",
    "This exercise is uses the Lending Club loan dataset. The outcome variable is a loan default status, *loan_status*, (=1 if paid off and =0 if not). This is going to be a DIY style exercise.\n",
    "\n",
    "</b>\n",
    "\n",
    "</blockquote>"
   ]
  },
  {
   "cell_type": "markdown",
   "id": "550c99fc-e3c8-4f1e-b097-55efae3833aa",
   "metadata": {},
   "source": [
    "**1. Fit a logistic regression model with 5-10 selected variables (converting the categorical variables to dummies). Give a short justification for why you excluded other variables. Report results in a table with standard errors and 95% confidence intervals (You are expected to code the log-likelihood function and optimize it numerically. The following guide may be helpful: https://indrag49.github.io/Numerical-Optimization/quasi-newton-methods.html).**"
   ]
  },
  {
   "cell_type": "code",
   "execution_count": 2,
   "id": "c313ceff-2568-4de2-8a7f-85297011a02f",
   "metadata": {
    "execution": {
     "iopub.execute_input": "2025-01-30T23:02:22.898177Z",
     "iopub.status.busy": "2025-01-30T23:02:22.897123Z",
     "iopub.status.idle": "2025-01-30T23:02:27.518520Z",
     "shell.execute_reply": "2025-01-30T23:02:27.518520Z",
     "shell.execute_reply.started": "2025-01-30T23:02:22.898177Z"
    }
   },
   "outputs": [
    {
     "name": "stdout",
     "output_type": "stream",
     "text": [
      "               LoanStatNew                                        Description\n",
      "0           acc_now_delinq  The number of accounts on which the borrower i...\n",
      "1     acc_open_past_24mths         Number of trades opened in past 24 months.\n",
      "2               addr_state  The state provided by the borrower in the loan...\n",
      "3                 all_util              Balance to credit limit on all trades\n",
      "4               annual_inc  The self-reported annual income provided by th...\n",
      "..                     ...                                                ...\n",
      "148      settlement_amount  The loan amount that the borrower has agreed t...\n",
      "149  settlement_percentage  The settlement amount as a percentage of the p...\n",
      "150        settlement_term  The number of months that the borrower will be...\n",
      "151                    NaN                                                NaN\n",
      "152                    NaN  * Employer Title replaces Employer Name for al...\n",
      "\n",
      "[153 rows x 2 columns]\n",
      "   Unnamed: 0  loan_amnt  funded_amnt  funded_amnt_inv       term int_rate  \\\n",
      "0           1       5000         5000           4975.0  36 months   10.65%   \n",
      "1           2       2500         2500           2500.0  60 months   15.27%   \n",
      "2           3       2400         2400           2400.0  36 months   15.96%   \n",
      "3           4      10000        10000          10000.0  36 months   13.49%   \n",
      "4           5       3000         3000           3000.0  60 months   12.69%   \n",
      "\n",
      "   installment grade sub_grade                 emp_title  ... policy_code  \\\n",
      "0       162.87     B        B2                       NaN  ...           1   \n",
      "1        59.83     C        C4                     Ryder  ...           1   \n",
      "2        84.33     C        C5                       NaN  ...           1   \n",
      "3       339.31     C        C1       AIR RESOURCES BOARD  ...           1   \n",
      "4        67.79     B        B5  University Medical Group  ...           1   \n",
      "\n",
      "  application_type  acc_now_delinq chargeoff_within_12_mths delinq_amnt  \\\n",
      "0       Individual               0                      0.0           0   \n",
      "1       Individual               0                      0.0           0   \n",
      "2       Individual               0                      0.0           0   \n",
      "3       Individual               0                      0.0           0   \n",
      "4       Individual               0                      0.0           0   \n",
      "\n",
      "   pub_rec_bankruptcies tax_liens hardship_flag disbursement_method  \\\n",
      "0                   0.0       0.0             N                Cash   \n",
      "1                   0.0       0.0             N                Cash   \n",
      "2                   0.0       0.0             N                Cash   \n",
      "3                   0.0       0.0             N                Cash   \n",
      "4                   0.0       0.0             N                Cash   \n",
      "\n",
      "  debt_settlement_flag  \n",
      "0                    N  \n",
      "1                    N  \n",
      "2                    N  \n",
      "3                    N  \n",
      "4                    N  \n",
      "\n",
      "[5 rows x 55 columns]\n"
     ]
    }
   ],
   "source": [
    "# Load data from a CSV file on GitHub\n",
    "ps7_variable_dictionary = pd.read_excel('https://raw.githubusercontent.com/JiaxiLi1995/Econ771_python/main/ps7_data/data_dictionary.xlsx')\n",
    "ps7_data = pd.read_csv('https://raw.githubusercontent.com/JiaxiLi1995/Econ771_python/main/ps7_data/lending_club_07_to_11_cleaned.csv')\n",
    "\n",
    "# Load first few lines to have a feeling of the data\n",
    "print(ps7_variable_dictionary)\n",
    "print(ps7_data.head())"
   ]
  },
  {
   "cell_type": "markdown",
   "id": "8def5f01",
   "metadata": {},
   "source": [
    "<b>\n",
    "    \n",
    "2. To evaluate the predictive performance of the model, split the data randomly into two subsets of equal size (training and test set). Fit the logistic regression on the training set and compute predicted default status for the tests set. The predictions can be obtained as\n",
    "$$\\hat{y}_i = 1 \\quad if \\ and \\ only \\ if \\quad x^\\top_i \\hat{\\beta} \\geq 0.$$\n",
    "\n",
    "What is the fraction of the incorrectly predicted $\\hat{y}_i$ in the test set?\n",
    "\n",
    "</b>"
   ]
  },
  {
   "cell_type": "code",
   "execution_count": null,
   "id": "3314fd22",
   "metadata": {},
   "outputs": [],
   "source": []
  }
 ],
 "metadata": {
  "kernelspec": {
   "display_name": "Python 3 (ipykernel)",
   "language": "python",
   "name": "python3"
  },
  "language_info": {
   "codemirror_mode": {
    "name": "ipython",
    "version": 3
   },
   "file_extension": ".py",
   "mimetype": "text/x-python",
   "name": "python",
   "nbconvert_exporter": "python",
   "pygments_lexer": "ipython3",
   "version": "3.12.7"
  }
 },
 "nbformat": 4,
 "nbformat_minor": 5
}
