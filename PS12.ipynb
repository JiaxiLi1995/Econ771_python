{
 "cells": [
  {
   "cell_type": "markdown",
   "id": "5f769895",
   "metadata": {},
   "source": [
    "# Econ 771 - Problem Set 12\n",
    "Coding Part"
   ]
  },
  {
   "cell_type": "code",
   "execution_count": null,
   "id": "bd9fa5c8",
   "metadata": {},
   "outputs": [],
   "source": [
    "# Import necessary packages\n",
    "import pandas as pd\n",
    "from datetime import datetime"
   ]
  },
  {
   "cell_type": "markdown",
   "id": "47286a2c",
   "metadata": {},
   "source": [
    "## Exercise IV\n",
    "\n",
    "<b>\n",
    "\n",
    "Download quarterly US GDP data from https://fred.stlouisfed.org/series/GDPC1.\n",
    "\n",
    "</b>"
   ]
  },
  {
   "cell_type": "code",
   "execution_count": null,
   "id": "c4a6a368",
   "metadata": {},
   "outputs": [],
   "source": [
    "# One can download data and do read_csv\n",
    "# Since the Fred link format is standard, I provide a current date method to download the series here\n",
    "# Today's date in the required format\n",
    "today_date = datetime.today().strftime('%Y-%m-%d')\n",
    "\n",
    "# Original URL with placeholder for the current date\n",
    "url_template = \"https://fred.stlouisfed.org/graph/fredgraph.csv?bgcolor=%23e1e9f0&chart_type=line&drp=0&fo=open%20sans&graph_bgcolor=%23ffffff&height=450&mode=fred&recession_bars=on&txtcolor=%23444444&ts=12&tts=12&width=1320&nt=0&thu=0&trc=0&show_legend=yes&show_axis_titles=yes&show_tooltip=yes&id=GDPC1&scale=left&cosd=1947-01-01&coed={date}&line_color=%234572a7&link_values=false&line_style=solid&mark_type=none&mw=3&lw=2&ost=-99999&oet=99999&mma=0&fml=a&fq=Quarterly&fam=avg&fgst=lin&fgsnd={date}&line_index=1&transformation=lin&vintage_date={date}&revision_date={date}&nd=1947-01-01\"\n",
    "\n",
    "# Insert today's date into the URL\n",
    "Fred_url = url_template.format(date=today_date)\n",
    "\n",
    "ps12_data = pd.read_csv(Fred_url)\n",
    "\n",
    "print(ps12_data.head())"
   ]
  },
  {
   "cell_type": "markdown",
   "id": "aa1a870d",
   "metadata": {},
   "source": [
    "**1. Graphical analysis:**"
   ]
  },
  {
   "cell_type": "markdown",
   "id": "9bbe5a74-3464-4f14-a700-ce5c04a21ed3",
   "metadata": {},
   "source": [
    "**(a) Plot time series. Does it look stationary? Perform formal Dickey-Fuller and Phillips-Perron tests.**"
   ]
  },
  {
   "cell_type": "code",
   "execution_count": null,
   "id": "c313ceff-2568-4de2-8a7f-85297011a02f",
   "metadata": {},
   "outputs": [],
   "source": []
  },
  {
   "cell_type": "markdown",
   "id": "8def5f01",
   "metadata": {},
   "source": [
    "**(b) Compute the difference in logs: $\\Delta log(y_t) = log(y_t) - log(y_{t-1})$. Plot this time series. Does it look stationary? Test formally for unit roots. Plot the histogram.**"
   ]
  },
  {
   "cell_type": "code",
   "execution_count": null,
   "id": "3314fd22",
   "metadata": {},
   "outputs": [],
   "source": []
  },
  {
   "cell_type": "markdown",
   "id": "a1d6f9d5-932d-4b6b-8fe5-00d35ce5be3c",
   "metadata": {},
   "source": [
    "**(c) Plot the sample autocorrelation function.**"
   ]
  },
  {
   "cell_type": "code",
   "execution_count": null,
   "id": "01fdcf1e-2ce8-4ab1-bb57-bd6dd3daa7e2",
   "metadata": {},
   "outputs": [],
   "source": []
  },
  {
   "cell_type": "markdown",
   "id": "bd6d489d-83e4-492e-b9ae-4eb781b4d1ce",
   "metadata": {},
   "source": [
    "**2. Construct a table with AIC and BIC information criteria computed for different number of lags. Find the best model.**"
   ]
  },
  {
   "cell_type": "code",
   "execution_count": null,
   "id": "ffb801f0-8352-4a9a-9887-0ef39996d0bf",
   "metadata": {},
   "outputs": [],
   "source": []
  },
  {
   "cell_type": "markdown",
   "id": "160e83f4-1638-4bd8-a8a3-245dffd34c62",
   "metadata": {},
   "source": [
    "**3. Estimate the ARMA(p,q) model for the differenced US GDP series (you have to estimate two models if AIC and BIC give a different answer).**"
   ]
  },
  {
   "cell_type": "code",
   "execution_count": null,
   "id": "0bc7c443-4555-4966-99ee-9406a33330d0",
   "metadata": {},
   "outputs": [],
   "source": []
  },
  {
   "cell_type": "markdown",
   "id": "acae0762-0e59-4e09-a6dc-6cbe5b2e2ab9",
   "metadata": {},
   "source": [
    "**4. Perform the residual diagnostics using the Box-Pierce and the Ljung-Box tests.**"
   ]
  },
  {
   "cell_type": "code",
   "execution_count": null,
   "id": "0da06ef7-4a76-4bd1-b3b2-6084a785a702",
   "metadata": {},
   "outputs": [],
   "source": []
  },
  {
   "cell_type": "markdown",
   "id": "e9ce2316-e32a-401a-a55c-a9514f556f6a",
   "metadata": {},
   "source": [
    "**5. Compute the in-sample forecast and plot it together with the original differenced time series. Run the Mincer-Zarnowitz regression.**"
   ]
  },
  {
   "cell_type": "code",
   "execution_count": null,
   "id": "4e20ebc1-e779-4169-a7f5-940d182f3525",
   "metadata": {},
   "outputs": [],
   "source": []
  },
  {
   "cell_type": "markdown",
   "id": "c7032b42-d66a-4dd9-bb60-0ad97a95044d",
   "metadata": {},
   "source": [
    "**6. Compute the 1-step ahead out-of-sample forecast for the next quarter.**"
   ]
  },
  {
   "cell_type": "code",
   "execution_count": null,
   "id": "652a6fbf-60cb-474f-bd01-18319d039e9b",
   "metadata": {},
   "outputs": [],
   "source": []
  }
 ],
 "metadata": {
  "kernelspec": {
   "display_name": "Python 3 (ipykernel)",
   "language": "python",
   "name": "python3"
  },
  "language_info": {
   "codemirror_mode": {
    "name": "ipython",
    "version": 3
   },
   "file_extension": ".py",
   "mimetype": "text/x-python",
   "name": "python",
   "nbconvert_exporter": "python",
   "pygments_lexer": "ipython3",
   "version": "3.12.7"
  }
 },
 "nbformat": 4,
 "nbformat_minor": 5
}
