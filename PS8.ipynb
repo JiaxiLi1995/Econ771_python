{
 "cells": [
  {
   "cell_type": "markdown",
   "id": "5f769895",
   "metadata": {},
   "source": [
    "# Econ 771 - Problem Set 8\n",
    "Coding Part"
   ]
  },
  {
   "cell_type": "code",
   "execution_count": null,
   "id": "faaa9008-e406-4504-90b3-df1e2afc4af7",
   "metadata": {},
   "outputs": [],
   "source": [
    "# Import necessary packages"
   ]
  },
  {
   "cell_type": "code",
   "execution_count": null,
   "id": "8b7befe3-0d25-4ba7-a745-d7671c1bc0e6",
   "metadata": {},
   "outputs": [],
   "source": [
    "# This is for the timing of the code run time, please do not modify\n",
    "import time\n",
    "start_time = time.time()"
   ]
  },
  {
   "cell_type": "markdown",
   "id": "47286a2c",
   "metadata": {},
   "source": [
    "## Exercise I\n",
    "\n",
    "<blockquote>\n",
    "\n",
    "<b>\n",
    "\n",
    "Let $(Y_i, X_i)_{i=1}^n$ be an i.i.d. sample, where $Y_i \\in \\{0, 1\\}$ is the loan status and $X_i \\in \\mathbb{R}^K$ are\n",
    "individual characteristics. Consider the following binary choice model\n",
    "$$Y_i = \\mathbb{1}_{X^\\top_i \\beta_i - \\epsilon_i \\geq 0}, \\quad \\beta_i \\mathrel{\\unicode{x2AEB}} \\epsilon_i,$$\n",
    "\n",
    "where $\\beta_i \\sim_{i.i.d.} N(\\mu, \\Sigma)$ are unobserved random coefficients, $\\epsilon_i$ are the unobserved Logit errors, and $(\\mu, \\Sigma)$ are unknown parameters of the model.\n",
    "\n",
    "</b>\n",
    "\n",
    "</blockquote>"
   ]
  },
  {
   "cell_type": "markdown",
   "id": "550c99fc-e3c8-4f1e-b097-55efae3833aa",
   "metadata": {},
   "source": [
    "**1. Provide the intepretation to the random coefficient $\\beta_i$. Is the assumption $\\beta_i \\mathrel{\\unicode{x2AEB}} \\epsilon_i$ plausible?**"
   ]
  },
  {
   "cell_type": "code",
   "execution_count": null,
   "id": "c313ceff-2568-4de2-8a7f-85297011a02f",
   "metadata": {},
   "outputs": [],
   "source": []
  },
  {
   "cell_type": "markdown",
   "id": "8def5f01",
   "metadata": {},
   "source": [
    "<b>\n",
    "    \n",
    "2. Show that choice probability is\n",
    "$$Pr(Y_i = 1|X_i; \\mu, \\Sigma) = \\int_{\\mathbb{R}^K} \\frac{1}{1 + \\exp(-X^\\top_i b)} \\phi(b; \\mu, \\Sigma)db.$$\n",
    "\n",
    "</b>"
   ]
  },
  {
   "cell_type": "code",
   "execution_count": null,
   "id": "3314fd22",
   "metadata": {},
   "outputs": [],
   "source": []
  },
  {
   "cell_type": "markdown",
   "id": "969dc27f-cc80-414a-8a2b-f95f711b627d",
   "metadata": {},
   "source": [
    "**3. Derive the sample log-likelihood function and note that it is not available in closed-form.**"
   ]
  },
  {
   "cell_type": "code",
   "execution_count": null,
   "id": "51412057-60cd-4fa9-9e45-6165bb8612f8",
   "metadata": {},
   "outputs": [],
   "source": []
  },
  {
   "cell_type": "markdown",
   "id": "68b71781-c3ab-4fa0-86d6-e4ce0033a481",
   "metadata": {},
   "source": [
    "**4. We will explore several approaches to approximate the choice probability. Assume for simplicity that $K = 1$ and that there is no intercept. Assume also that $\\beta_i \\sim N(0.5, 2)$ and $X_i = 0.5$. Compute the integral numerically, e.g. using *scipy.integrate.quad* in Python.**"
   ]
  },
  {
   "cell_type": "code",
   "execution_count": null,
   "id": "55c70252-0ba8-4bc1-b05c-c1689d2ad8b6",
   "metadata": {},
   "outputs": [],
   "source": []
  },
  {
   "cell_type": "markdown",
   "id": "e66b2324-bc4b-4b87-9530-f638f59af2f9",
   "metadata": {},
   "source": [
    "<b>\n",
    "\n",
    "5. Note that the integral can be written as $\\mathbb{E}_{\\beta}[g(\\beta_i)]$ for some $g$, where the expectation is taken with respect to $\\beta_i$. By the law of large numbers, we know that\n",
    "$$\\frac{1}{M} \\sum_{i=1}^M g(\\beta_i) \\xrightarrow{a.s.} \\mathbb{E}_{\\beta}[g(\\beta_i)].$$\n",
    "\n",
    "Evaluate the integral using the Monte Carlo integration, simulating $M = 50$ and $M = 500$ draws. Compare your results to the numerical integration.\n",
    "\n",
    "</b>"
   ]
  },
  {
   "cell_type": "code",
   "execution_count": null,
   "id": "bc387c11-eefa-439a-a47d-b450a7459e05",
   "metadata": {},
   "outputs": [],
   "source": []
  },
  {
   "cell_type": "markdown",
   "id": "e8741cd0-b6ad-4551-a6d4-550a4c239824",
   "metadata": {},
   "source": [
    "**6. Repeat the exercise for $K = 2$, when $\\mu = (0.5, 1)^\\top$, $\\Sigma = diag(2, 1)$, and $X = (0.5, 1)$. Discuss.**"
   ]
  },
  {
   "cell_type": "code",
   "execution_count": null,
   "id": "65452c3e-19e8-4d91-b6ff-d2f237729a2e",
   "metadata": {},
   "outputs": [],
   "source": []
  },
  {
   "cell_type": "markdown",
   "id": "112cd77e-32aa-44d8-b2f8-482d10e334a8",
   "metadata": {},
   "source": [
    "**7. Fit the unknown parameters $(\\mu, \\Sigma)$ for the mixed Logit model using the Lending Club dataset with only two covariates of your choice. You can use the numerical optimization library in Python for this part. The objective function is not convex, so try several randomly selected starting values to get the optimum. Compare your estimates to the standard Logit estimates.**"
   ]
  },
  {
   "cell_type": "code",
   "execution_count": null,
   "id": "124f150f-6c75-462b-85b9-a0489128218c",
   "metadata": {},
   "outputs": [],
   "source": []
  },
  {
   "cell_type": "code",
   "execution_count": null,
   "id": "ca6ef3c4-551a-4191-81f4-92b332a12300",
   "metadata": {},
   "outputs": [],
   "source": [
    "# This is for the timing of the code run time, please do not modify\n",
    "end_time = time.time()\n",
    "\n",
    "print(f\"Total runtime: {end_time - start_time} seconds\")"
   ]
  }
 ],
 "metadata": {
  "kernelspec": {
   "display_name": "Python 3 (ipykernel)",
   "language": "python",
   "name": "python3"
  },
  "language_info": {
   "codemirror_mode": {
    "name": "ipython",
    "version": 3
   },
   "file_extension": ".py",
   "mimetype": "text/x-python",
   "name": "python",
   "nbconvert_exporter": "python",
   "pygments_lexer": "ipython3",
   "version": "3.12.7"
  }
 },
 "nbformat": 4,
 "nbformat_minor": 5
}
