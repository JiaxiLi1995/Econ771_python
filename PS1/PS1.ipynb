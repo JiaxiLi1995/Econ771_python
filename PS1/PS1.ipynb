{
 "cells": [
  {
   "cell_type": "markdown",
   "id": "5f769895",
   "metadata": {},
   "source": [
    "# Econ 711 - Problem Set 1\n",
    "Coding Parts"
   ]
  },
  {
   "cell_type": "code",
   "execution_count": 2,
   "id": "bd9fa5c8",
   "metadata": {},
   "outputs": [],
   "source": [
    "# Import necessary packages"
   ]
  },
  {
   "cell_type": "markdown",
   "id": "47286a2c",
   "metadata": {},
   "source": [
    "## Exercise IV\n",
    "\n",
    "**1. This problem requires the dataset 'ps1.csv' posted on sakai. Consider the model**\n",
    "\n",
    "**$$Y = X^T\\beta + \\epsilon, \\ \\ \\ \\ \\ \\ E[\\epsilon | X] = 0,$$\n",
    "where the first element of $\\beta$ is an intercept.**"
   ]
  },
  {
   "cell_type": "code",
   "execution_count": null,
   "id": "53901d5c-92fc-4163-88cc-3964ecd78faf",
   "metadata": {},
   "outputs": [],
   "source": []
  },
  {
   "cell_type": "markdown",
   "id": "aa1a870d",
   "metadata": {},
   "source": [
    "**2. In a figure with 2 panels, plot $X_1$ vs $Y$ and $X_2$ vs $Y$.**"
   ]
  },
  {
   "cell_type": "code",
   "execution_count": null,
   "id": "d17402ca-a6e7-4523-adab-209d6fa416a4",
   "metadata": {},
   "outputs": [],
   "source": []
  },
  {
   "cell_type": "markdown",
   "id": "8def5f01",
   "metadata": {},
   "source": [
    "**3. Calculate the OLS estimates $\\hat{\\beta}$.**\n",
    "\n",
    "**We know from the lecture that $\\hat{\\beta} = (X^TX)^{-1}X^TY$.**"
   ]
  },
  {
   "cell_type": "code",
   "execution_count": null,
   "id": "42e67e3c-6bb6-4aa5-a85c-d0aa6694533e",
   "metadata": {},
   "outputs": [],
   "source": []
  },
  {
   "cell_type": "markdown",
   "id": "fb8490b5",
   "metadata": {},
   "source": [
    "**4. Calculate the $R^2$ (coefficient of determination).**"
   ]
  },
  {
   "cell_type": "code",
   "execution_count": null,
   "id": "5ee3a6cb-9362-483a-b103-6c0ba4d13464",
   "metadata": {},
   "outputs": [],
   "source": []
  },
  {
   "cell_type": "markdown",
   "id": "d2db0ff8-6e83-4895-816c-192cbb7a20ec",
   "metadata": {},
   "source": [
    "**5. Calculate the fitted values $\\hat{y}$ and overlay them on the plots in the first figure. Make the figure look nice.**"
   ]
  },
  {
   "cell_type": "code",
   "execution_count": null,
   "id": "427da482-570e-44b5-809d-400f60aadc7a",
   "metadata": {},
   "outputs": [],
   "source": []
  },
  {
   "cell_type": "markdown",
   "id": "6152f471-a26e-4cd9-88ac-d2ae71f5834d",
   "metadata": {},
   "source": [
    "**6. What conclusions can you draw from this information? Explain.**"
   ]
  },
  {
   "cell_type": "code",
   "execution_count": null,
   "id": "37fa8720-a090-4a4e-8df0-dc7cf3df0683",
   "metadata": {},
   "outputs": [],
   "source": []
  }
 ],
 "metadata": {
  "kernelspec": {
   "display_name": "Python 3 (ipykernel)",
   "language": "python",
   "name": "python3"
  },
  "language_info": {
   "codemirror_mode": {
    "name": "ipython",
    "version": 3
   },
   "file_extension": ".py",
   "mimetype": "text/x-python",
   "name": "python",
   "nbconvert_exporter": "python",
   "pygments_lexer": "ipython3",
   "version": "3.12.7"
  }
 },
 "nbformat": 4,
 "nbformat_minor": 5
}
