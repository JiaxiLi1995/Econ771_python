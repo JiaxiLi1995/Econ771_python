{
 "cells": [
  {
   "cell_type": "markdown",
   "id": "5f769895",
   "metadata": {},
   "source": [
    "# Econ 711 - Problem Set 3\n",
    "Coding Part"
   ]
  },
  {
   "cell_type": "code",
   "execution_count": null,
   "id": "faaa9008-e406-4504-90b3-df1e2afc4af7",
   "metadata": {},
   "outputs": [],
   "source": [
    "# Import necessary packages"
   ]
  },
  {
   "cell_type": "code",
   "execution_count": null,
   "id": "bd9fa5c8",
   "metadata": {},
   "outputs": [],
   "source": [
    "# This is for the timing of the code run time, please do not modify\n",
    "import time\n",
    "start_time = time.time()"
   ]
  },
  {
   "cell_type": "markdown",
   "id": "47286a2c",
   "metadata": {},
   "source": [
    "## Exercise I\n",
    "\n",
    "<blockquote>\n",
    "\n",
    "<b>\n",
    "\n",
    "In this exercise we would like to study the finite-sample distribution of the OLS estimator using Monte Carlo simulations. Simulate $M$ $(M \\geq 5000)$ i.i.d. samples of size $n = 20$ as follows\n",
    "$$Y = \\beta_1 + \\beta_2 X_2 + \\beta_3 X_3 + \\epsilon,$$\n",
    "\n",
    "with coefficients set to $\\beta_1 = 1$, $\\beta_2 = 2$, $\\beta_3 = 3$ and the data generated as $X_2 \\sim N(0, 1)$, $X_3 \\sim N(0, 1)$, $\\epsilon \\sim N(0, 1)$ with $X_2 \\coprod X_3 \\coprod \\epsilon$.\n",
    "\n",
    "</b>\n",
    "\n",
    "</blockquote>"
   ]
  },
  {
   "cell_type": "markdown",
   "id": "550c99fc-e3c8-4f1e-b097-55efae3833aa",
   "metadata": {},
   "source": [
    "**1. Explore the distribution of the OLS estimator under the homoskedastic Gaussian errors as follows:**"
   ]
  },
  {
   "cell_type": "markdown",
   "id": "aa1a870d",
   "metadata": {},
   "source": [
    "**(a) For each $m = 1, \\dots, M$, compute the OLS estimator $\\hat{\\beta}_m = (\\hat{\\beta}_{1m}, \\hat{\\beta}_{2m}, \\hat{\\beta}_{3m})^T$.**"
   ]
  },
  {
   "cell_type": "code",
   "execution_count": null,
   "id": "c313ceff-2568-4de2-8a7f-85297011a02f",
   "metadata": {},
   "outputs": [],
   "source": []
  },
  {
   "cell_type": "markdown",
   "id": "8def5f01",
   "metadata": {},
   "source": [
    "**(b) Plot three histograms of standardized estimators, i.e., plot the histogram of $\\frac{\\hat{\\beta}_{km} - \\beta_{km}}{\\sqrt{\\sigma^2 (X^T X)^{-1}}}$ assuming that $\\sigma^2$ is known. Plot the probability density function of $N(0, 1)$ at each histogram.**"
   ]
  },
  {
   "cell_type": "code",
   "execution_count": null,
   "id": "3314fd22",
   "metadata": {},
   "outputs": [],
   "source": []
  },
  {
   "cell_type": "markdown",
   "id": "fb8490b5",
   "metadata": {},
   "source": [
    "**(c) Replace $\\sigma^2$ by its unbiased estimator $\\hat{\\sigma}^2$ and plot histograms of $\\frac{\\hat{\\beta}_{km} - \\beta_{km}}{\\sqrt{\\hat{\\sigma}^2 (X^T X)^{-1}}}$ with the probability function of $N(0, 1)$. What is the distribution of the standardized estimators now?**"
   ]
  },
  {
   "cell_type": "code",
   "execution_count": null,
   "id": "33824ba8",
   "metadata": {},
   "outputs": [],
   "source": []
  },
  {
   "cell_type": "markdown",
   "id": "dc15aa2a-c22f-4542-b315-68640871d6b4",
   "metadata": {},
   "source": [
    "**(d) Fix significance level at 5%. Compute the empirical size of the t-test – the fraction of times you reject the null-hypothesis when it is actually correct (For each coefficient you should test the null hypothesis that it actually equals to the one set in the datagenerating process and compare the value of the t-statistics to the quantiles of the distribution that you observe in (c)).**"
   ]
  },
  {
   "cell_type": "code",
   "execution_count": null,
   "id": "5ac3efc3-8ba2-4ca0-9d02-493aad35c05c",
   "metadata": {},
   "outputs": [],
   "source": []
  },
  {
   "cell_type": "markdown",
   "id": "deab5b13-2579-49bd-9d3d-115fb24ee34a",
   "metadata": {},
   "source": [
    "**(e) Compute the empirical power of the t-test for the significance test ($H_0 : \\beta_k = 0$) – the fraction of times you reject the null-hypothesis.**"
   ]
  },
  {
   "cell_type": "code",
   "execution_count": null,
   "id": "f10be5f8-340b-4275-8de1-76f4250b9576",
   "metadata": {},
   "outputs": [],
   "source": []
  },
  {
   "cell_type": "markdown",
   "id": "d129debf-1c82-4689-bb4c-6841854ffed6",
   "metadata": {},
   "source": [
    "**(f) Conclude.**"
   ]
  },
  {
   "cell_type": "code",
   "execution_count": null,
   "id": "f45f4cee-a04e-42e8-bf7c-b2d876fa0c3b",
   "metadata": {},
   "outputs": [],
   "source": []
  },
  {
   "cell_type": "markdown",
   "id": "b3455545-5eda-4705-9adf-02a24f2ed694",
   "metadata": {},
   "source": [
    "<b>\n",
    "\n",
    "2. Now we introduce heteroskedasticity as follows\n",
    "$$Y = \\beta_1 + \\beta_2 X_2 + \\beta_3 X_3 + \\tilde{\\epsilon},$$\n",
    "\n",
    "where $\\tilde{\\epsilon} = \\epsilon(X_2 + X_3)$ and the rest is simulated as before. Check that $E[\\tilde{\\epsilon}|X_2, X_3] = 0$ and $Var(\\tilde{\\epsilon}|X_2, X_3) = (X_2 + X_3)^2$. Simulate new data and explore the the distribution of the OLS estimator under heteroskedastic normal errors following steps (a)-(e) above.\n",
    "\n",
    "</b>"
   ]
  },
  {
   "cell_type": "markdown",
   "id": "f156c1bc-1ccd-4c93-b85d-cfcd6877778d",
   "metadata": {
    "execution": {
     "iopub.execute_input": "2024-11-01T20:51:38.429600Z",
     "iopub.status.busy": "2024-11-01T20:51:38.429527Z",
     "iopub.status.idle": "2024-11-01T20:51:38.442355Z",
     "shell.execute_reply": "2024-11-01T20:51:38.442355Z",
     "shell.execute_reply.started": "2024-11-01T20:51:38.429600Z"
    }
   },
   "source": [
    "**(0) Check that $E[\\tilde{\\epsilon}|X_2, X_3] = 0$ and $Var(\\tilde{\\epsilon}|X_2, X_3) = (X_2 + X_3)^2$.**"
   ]
  },
  {
   "cell_type": "code",
   "execution_count": null,
   "id": "e5397138-47ca-40f1-8c32-cc2d869873ac",
   "metadata": {},
   "outputs": [],
   "source": []
  },
  {
   "cell_type": "markdown",
   "id": "fd1ca023-53d2-429c-86ea-e9395bfe4d16",
   "metadata": {},
   "source": [
    "**(a) For each $m = 1, \\dots, M$, compute the OLS estimator $\\hat{\\beta}_m = (\\hat{\\beta}_{1m}, \\hat{\\beta}_{2m}, \\hat{\\beta}_{3m})^T$.**"
   ]
  },
  {
   "cell_type": "code",
   "execution_count": null,
   "id": "a6b03e08-f8e4-4b96-8f23-ed1acff0e2cb",
   "metadata": {},
   "outputs": [],
   "source": []
  },
  {
   "cell_type": "markdown",
   "id": "3f1eddc4-02e8-4a27-9129-66c7af76fca4",
   "metadata": {},
   "source": [
    "**(b) Plot three histograms of standardized estimators assuming that $\\sigma^2$ is known. Plot the probability density function of $N(0, 1)$ at each histogram.**"
   ]
  },
  {
   "cell_type": "code",
   "execution_count": null,
   "id": "33a2f823-7090-49a9-b02b-bbe003820dfd",
   "metadata": {},
   "outputs": [],
   "source": []
  },
  {
   "cell_type": "markdown",
   "id": "009a4cfe-0e58-40ff-b194-616e38295549",
   "metadata": {},
   "source": [
    "**(c) Replace $\\sigma^2$ by its unbiased estimator $\\hat{\\sigma}^2$ and plot histograms of $\\frac{\\hat{\\beta}_{km} - \\beta_{km}}{\\sqrt{\\hat{\\sigma}^2 (X^T X)^{-1}}}$ with the probability function of $N(0, 1)$. What is the distribution of the standardized estimators now?**"
   ]
  },
  {
   "cell_type": "code",
   "execution_count": null,
   "id": "2f1e63c9-01f8-407e-a1bb-b996219c6076",
   "metadata": {},
   "outputs": [],
   "source": []
  },
  {
   "cell_type": "markdown",
   "id": "0f87afcc-3b6d-4992-bce5-ebcbbe8563f2",
   "metadata": {},
   "source": [
    "**(d) Fix significance level at 5%. Compute the empirical size of the t-test – the fraction of times you reject the null-hypothesis when it is actually correct.**"
   ]
  },
  {
   "cell_type": "code",
   "execution_count": null,
   "id": "7570e37e-56ee-4102-b9db-b1255a329c30",
   "metadata": {},
   "outputs": [],
   "source": []
  },
  {
   "cell_type": "markdown",
   "id": "7377f337-6216-4c69-ac3a-df69c92dedd7",
   "metadata": {},
   "source": [
    "**(e) Compute the empirical power of the t-test for the significance test ($H_0 : \\beta_k = 0$) – the fraction of times you reject the null-hypothesis.**"
   ]
  },
  {
   "cell_type": "code",
   "execution_count": null,
   "id": "15f9c0a1-6542-468b-94d0-ca01c2619b3f",
   "metadata": {},
   "outputs": [],
   "source": []
  },
  {
   "cell_type": "markdown",
   "id": "c8b5c06f-3e3e-4fe3-b6dd-6f70df1a1327",
   "metadata": {},
   "source": [
    "**(f) Conclude.**"
   ]
  },
  {
   "cell_type": "code",
   "execution_count": null,
   "id": "9553d5e8-fadb-4bfe-8234-b4133661f547",
   "metadata": {},
   "outputs": [],
   "source": []
  },
  {
   "cell_type": "code",
   "execution_count": null,
   "id": "def789fe-ff47-4c07-91c9-fc966dc0ce47",
   "metadata": {},
   "outputs": [],
   "source": [
    "# This is for the timing of the code run time, please do not modify\n",
    "end_time = time.time()\n",
    "\n",
    "print(f\"Total runtime: {end_time - start_time} seconds\")"
   ]
  }
 ],
 "metadata": {
  "kernelspec": {
   "display_name": "Python 3 (ipykernel)",
   "language": "python",
   "name": "python3"
  },
  "language_info": {
   "codemirror_mode": {
    "name": "ipython",
    "version": 3
   },
   "file_extension": ".py",
   "mimetype": "text/x-python",
   "name": "python",
   "nbconvert_exporter": "python",
   "pygments_lexer": "ipython3",
   "version": "3.12.7"
  }
 },
 "nbformat": 4,
 "nbformat_minor": 5
}
