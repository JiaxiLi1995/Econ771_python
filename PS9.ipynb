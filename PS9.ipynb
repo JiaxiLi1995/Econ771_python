{
 "cells": [
  {
   "cell_type": "markdown",
   "id": "5f769895",
   "metadata": {},
   "source": [
    "# Econ 771 - Problem Set 9\n",
    "Coding Part"
   ]
  },
  {
   "cell_type": "code",
   "execution_count": null,
   "id": "bd9fa5c8",
   "metadata": {},
   "outputs": [],
   "source": [
    "# Import necessary packages\n",
    "import pandas as pd"
   ]
  },
  {
   "cell_type": "markdown",
   "id": "47286a2c",
   "metadata": {},
   "source": [
    "## Exercise III\n",
    "\n",
    "<b>\n",
    "\n",
    "Hayashi, Empirical exercise on p.250-252 (a)-(e).\n",
    "\n",
    "<br>\n",
    "\n",
    "<blockquote>\n",
    "\n",
    "Read Griliches (1976) before answering. We will estimate the type of the wage equation estimated by Griliches using an extract from the NLS-Y used by Blackbum and Neumark (1992).\" The NLS-Y is panel data, with the same set of young men surveyed at several points in time (we will not exploit the panel feature of the data set in this exercise, though). The extract contains information about those individuals at two points in time: first, the earliest year in which wages and other variables are available, and second, in 1980. In a data file GRILIC.ASC, data are provided on RNS, RNS80, MRT, MRT80, SMSA, SMSA80, MED, IQ, KWW, YEAR, AGE, AGE80, S, S80, EXPR, EXPR80, TENURE, TENURE80, LW, and LW80 (in this order, with the columns corresponding to the variables, as usual). The variable YEAR is the year of the first point in time. Variables without \"80 are for the first point, and those with \"80\" are for 1980. The definition of the variables for the first point is:\n",
    "\n",
    "RNS = dummy for residency in the southern states\n",
    "\n",
    "MRT = dummy for marital status (1 if married)\n",
    "\n",
    "SMSA = dummy for residency in metropolitan areas\n",
    "\n",
    "MED = mother's education in years\n",
    "\n",
    "KWW = score on the \"Knowledge of the World of Work\" test\n",
    "\n",
    "IQ = IQ score\n",
    "\n",
    "AGE = age of the individual\n",
    "\n",
    "S = completed years of schooling\n",
    "\n",
    "EXPR = experience in years\n",
    "\n",
    "TENURE = tenure in years\n",
    "\n",
    "LW = log wage.\n",
    "\n",
    "The Blackburn-Neumark sample has 815 observations after deleting black individuals. Also deleted are cases with missing information on mother's education, reducing the sample size to 758.\n",
    "\n",
    "</blockquote>\n",
    "\n",
    "</b>"
   ]
  },
  {
   "cell_type": "code",
   "execution_count": null,
   "id": "c4a6a368",
   "metadata": {},
   "outputs": [],
   "source": [
    "# One can find the src or excel data from his website: http://fhayashi.fc2web.com/datasets.htm\n",
    "ps9_data = pd.read_excel(\"http://fhayashi.fc2web.com/hayashi%20econometrics/ch3/grilic.xls\")\n",
    "\n",
    "# Load first few lines to have a feeling of the data\n",
    "print(ps9_data.head())"
   ]
  },
  {
   "cell_type": "markdown",
   "id": "aa1a870d",
   "metadata": {},
   "source": [
    "**(a) Calculate means and standard deviations of all the provided variables (including those for 1980) and prepare a table similar to Griliches's Table 1. Also, calculate the correlation between IQ and S.**"
   ]
  },
  {
   "cell_type": "code",
   "execution_count": null,
   "id": "c313ceff-2568-4de2-8a7f-85297011a02f",
   "metadata": {},
   "outputs": [],
   "source": []
  },
  {
   "cell_type": "markdown",
   "id": "07cd4a46-c10a-43d0-9e3d-1131d0e2ad70",
   "metadata": {},
   "source": [
    "<b>\n",
    "\n",
    "<blockquote>\n",
    "\n",
    "Since the year the wage rate is observed differs across individuals, the wage rate will have the year effect. Generate eight year dummies for $YEAR = 66, \\dots ,73$. (Note: There is no observation for 1972.) The year dummies will be included in the log wage equation to control for the year effect.\n",
    "\n",
    "</blockquote>\n",
    "\n",
    "</b>"
   ]
  },
  {
   "cell_type": "markdown",
   "id": "8def5f01",
   "metadata": {},
   "source": [
    "<b>\n",
    "\n",
    "(b) Consider the wage equation (dropping the individual subscript i)\n",
    "$$LW = \\beta S + \\gamma IQ + \\delta'h + \\epsilon,$$\n",
    "\n",
    "where LW is log wages, S is schooling, and\n",
    "$$h \\equiv (EXPR, TENURE, RNS, SMSA, year \\ dummies)'.$$\n",
    "\n",
    "(There is no need to include a constant because it is a linear combination of the year dummies.) Prepare a table similar to Table 3.2. In your 2SLS estimation of the wage equation, the set of instruments should consist of predetermined regressors (S and h) and excluded predetermined variables (MED, KWW, MRT, AGE). Is the relative magnitude of the three different estimates of the schooling coefficient consistent with the prediction based on the omitted variable and errors-in-variables biases?\n",
    "\n",
    "</b>"
   ]
  },
  {
   "cell_type": "code",
   "execution_count": null,
   "id": "3314fd22",
   "metadata": {},
   "outputs": [],
   "source": []
  },
  {
   "cell_type": "markdown",
   "id": "fb8490b5",
   "metadata": {},
   "source": [
    "**(c) For your 2SLS estimation of the wage equation in part (b), calculate Sargan's statistic (it should be 87.655). What should the degrees of freedom be? Calculate the p-value.**"
   ]
  },
  {
   "cell_type": "code",
   "execution_count": null,
   "id": "33824ba8",
   "metadata": {},
   "outputs": [],
   "source": []
  },
  {
   "cell_type": "markdown",
   "id": "51f153df-cbcc-413d-bb0b-7b16874e9357",
   "metadata": {},
   "source": [
    "**(d) Obtain the 2SLS estimate by actually running two regressions. Verify that the standard errors given by the second stage regression are *different* from those you obtained in (b).**"
   ]
  },
  {
   "cell_type": "code",
   "execution_count": null,
   "id": "fdb1cf7e-d7e8-4639-9bff-2d9d504f59e1",
   "metadata": {},
   "outputs": [],
   "source": []
  },
  {
   "cell_type": "markdown",
   "id": "deab5b13-2579-49bd-9d3d-115fb24ee34a",
   "metadata": {},
   "source": [
    "**(e) Griliches mentions that schooling, too, may be endogenous. What is his argument? Estimate by 2SLS the wage equation, treating both IQ and S as endogenous. What happens to the schooling coefficient? How would you explain the difference between your 2SLS estimate of the schooling coefficient here and your 2SLS estimate in (b)? Calculate Sargan's statistic (it should be 13.268) and its p-value.**"
   ]
  },
  {
   "cell_type": "code",
   "execution_count": null,
   "id": "f10be5f8-340b-4275-8de1-76f4250b9576",
   "metadata": {},
   "outputs": [],
   "source": []
  }
 ],
 "metadata": {
  "kernelspec": {
   "display_name": "Python 3 (ipykernel)",
   "language": "python",
   "name": "python3"
  },
  "language_info": {
   "codemirror_mode": {
    "name": "ipython",
    "version": 3
   },
   "file_extension": ".py",
   "mimetype": "text/x-python",
   "name": "python",
   "nbconvert_exporter": "python",
   "pygments_lexer": "ipython3",
   "version": "3.12.7"
  }
 },
 "nbformat": 4,
 "nbformat_minor": 5
}
